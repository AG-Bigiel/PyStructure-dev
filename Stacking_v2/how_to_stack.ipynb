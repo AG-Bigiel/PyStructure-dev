{
 "cells": [
  {
   "cell_type": "markdown",
   "metadata": {},
   "source": [
    "# How to Stack using the `stacking.py` file\n",
    "\n",
    "### Some Prerequisits:\n",
    "* You have an IDL datbase (.idl file) structure saved with the data. \n",
    "* In this structure, there is a keyword of the quantity by which you want to stack"
   ]
  },
  {
   "cell_type": "markdown",
   "metadata": {},
   "source": [
    "# Step 1:\n",
    "\n",
    "We have to specify the variables for the main function:"
   ]
  },
  {
   "cell_type": "code",
   "execution_count": 2,
   "metadata": {},
   "outputs": [],
   "source": [
    "# Specify the directories:\n",
    "final_direc = \"./Example/Example_Results/\"\n",
    "data_direc = \"./Example/Example_Data/\"\n",
    "#data_direc = \"./../../PhD_prep/M101_proposal/\"\n",
    "\n",
    "# As an example, we will use the databse of the galaxy NGC 5194. We have only one galaxy. \n",
    "# If you have more, you can expand the list accordingly\n",
    "fnames = [\"ngc5194_data_struct_27as.npy\"]\n",
    "\n",
    "\n",
    "# We will only stack by radius for now. \n",
    "# If you want more, you can expand the list accordingly\n",
    "xtypes = [\"rgal_kpc\"]\n",
    "#xtypes = [\"INT_VAL_12CO10\"]\n",
    "\n",
    "#Define a set of lines to stack. \n",
    "lines = [\"12CO21\"]\n",
    "prior = [\"12CO10\"]\n",
    "\n",
    "weights_type = None\n",
    "#weights_type = \"snr_squared\"\n",
    "#weights_type = \"INT_VAL_12CO10\"\n",
    "\n",
    "xmin = 0\n",
    "xmax = 10\n",
    "nbins = 10\n",
    "\n",
    "#trim edges of spectrum to ensure overlap over all the spectra that are stacked\n",
    "trim_stackspec = True"
   ]
  },
  {
   "cell_type": "markdown",
   "metadata": {},
   "source": [
    "# Step 2\n",
    "Loop over the list of galaxies and stacking variables and save the result"
   ]
  },
  {
   "cell_type": "code",
   "execution_count": 3,
   "metadata": {},
   "outputs": [
    {
     "name": "stdout",
     "output_type": "stream",
     "text": [
      "[INFO]\t Stacking by rgal_kpc\n",
      "[INFO]\t Successfull Finished\n"
     ]
    }
   ],
   "source": [
    "# import the main function:\n",
    "from stacking import *\n",
    "\n",
    "# Loop over the stacking quantities\n",
    "get_stack(fnames, prior, lines, final_direc, dir_data = data_direc, xtype = xtypes[0],\n",
    "          nbins=nbins, xmin=xmin, xmax=xmax, weights_type=weights_type, trim_stackspec=trim_stackspec)"
   ]
  },
  {
   "cell_type": "markdown",
   "metadata": {},
   "source": [
    "# Congratulation, you have successfully run the stacking code.\n",
    "\n",
    "If you want to see how to open and work with the resulting data, have a look at the notebook in the`Example` folder."
   ]
  },
  {
   "cell_type": "code",
   "execution_count": null,
   "metadata": {},
   "outputs": [],
   "source": []
  }
 ],
 "metadata": {
  "kernelspec": {
   "display_name": "Python 3",
   "language": "python",
   "name": "python3"
  },
  "language_info": {
   "codemirror_mode": {
    "name": "ipython",
    "version": 3
   },
   "file_extension": ".py",
   "mimetype": "text/x-python",
   "name": "python",
   "nbconvert_exporter": "python",
   "pygments_lexer": "ipython3",
   "version": "3.9.15"
  }
 },
 "nbformat": 4,
 "nbformat_minor": 4
}
