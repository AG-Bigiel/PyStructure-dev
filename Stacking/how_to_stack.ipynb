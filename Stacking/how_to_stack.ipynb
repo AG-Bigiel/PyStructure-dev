{
 "cells": [
  {
   "cell_type": "markdown",
   "metadata": {},
   "source": [
    "# How to Stack using the `stacking.py` file\n",
    "\n",
    "### Some Prerequisits:\n",
    "* You have an IDL datbase (.idl file) structure saved with the data. \n",
    "* In this structure, there is a keyword of the quantity by which you want to stack"
   ]
  },
  {
   "cell_type": "markdown",
   "metadata": {},
   "source": [
    "# Step 1:\n",
    "\n",
    "Make sure that `bin_values.txt` has the quantity by which you want to stack and the bin parameters (start, stop, step_size) are specified."
   ]
  },
  {
   "cell_type": "markdown",
   "metadata": {},
   "source": [
    "# Step 2:\n",
    "\n",
    "We have to specify the variables for the main function:"
   ]
  },
  {
   "cell_type": "code",
   "execution_count": 1,
   "metadata": {},
   "outputs": [],
   "source": [
    "# Specify the directories:\n",
    "final_direc = \"./Example/Example_Results/\"\n",
    "data_direc = \"./../PyStructure/Output/\"\n",
    "#data_direc = \"./../../PhD_prep/M101_proposal/\"\n",
    "\n",
    "# As an example, we will use the databse of galaxy NGC 4321. We have only one galaxy. \n",
    "# If you have more, you can expand the list accordingly\n",
    "galaxies = [\"ngc5194\"]\n",
    "\n",
    "\n",
    "# We will only stack by radius for now. \n",
    "# If you want more, you can expand the list accordingly\n",
    "xtypes = [\"rad\",\"12co21\"]\n",
    "\n",
    "#Define a set of lines to stack. \n",
    "lines = [\"12CO10\"]\n",
    "prior = [\"12CO21\"]"
   ]
  },
  {
   "cell_type": "markdown",
   "metadata": {},
   "source": [
    "# Step 3\n",
    "Loop over the list of galaxies and stacking variables and save the result"
   ]
  },
  {
   "cell_type": "code",
   "execution_count": 2,
   "metadata": {},
   "outputs": [
    {
     "name": "stdout",
     "output_type": "stream",
     "text": [
      "[INFO]\t Stacking by 12co21\n",
      "[INFO]\t Successfull Finished\n",
      "[INFO]\t Stacking by 12co21\n",
      "[INFO]\t Successfull Finished\n"
     ]
    }
   ],
   "source": [
    "# import the main function:\n",
    "from stacking import *\n",
    "\n",
    "# Loop over the stacking quantities\n",
    "for xtype in xtypes:\n",
    "    for galaxy in galaxies:\n",
    "        res = get_stack(galaxy,prior,lines, final_direc, dir_data = data_direc, xtype = xtype, naming_convention=\"_data_struct_23as_2020_10_26.npy\")"
   ]
  },
  {
   "cell_type": "markdown",
   "metadata": {},
   "source": [
    "# Congratulation, you have successfully run the stacking code.\n",
    "\n",
    "If you want to see how to open and work with the resulting data, have a look at the notebook in the`Example` folder."
   ]
  },
  {
   "cell_type": "code",
   "execution_count": 5,
   "metadata": {},
   "outputs": [],
   "source": [
    "struct = np.load('./../PyStructure/Output/ngc6946_data_struct_2020_08_14.npy',allow_pickle = True).item()"
   ]
  },
  {
   "cell_type": "code",
   "execution_count": null,
   "metadata": {},
   "outputs": [],
   "source": []
  }
 ],
 "metadata": {
  "kernelspec": {
   "display_name": "Python 3",
   "language": "python",
   "name": "python3"
  },
  "language_info": {
   "codemirror_mode": {
    "name": "ipython",
    "version": 3
   },
   "file_extension": ".py",
   "mimetype": "text/x-python",
   "name": "python",
   "nbconvert_exporter": "python",
   "pygments_lexer": "ipython3",
   "version": "3.7.6"
  }
 },
 "nbformat": 4,
 "nbformat_minor": 2
}
